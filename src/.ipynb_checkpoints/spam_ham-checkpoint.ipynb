{
 "cells": [
  {
   "cell_type": "markdown",
   "metadata": {},
   "source": [
    "# Part I - Initial Analysis"
   ]
  },
  {
   "cell_type": "code",
   "execution_count": 1,
   "metadata": {},
   "outputs": [],
   "source": [
    "import numpy as np\n",
    "import pandas as pd\n",
    "\n",
    "import matplotlib.pyplot as plt\n",
    "%matplotlib inline\n",
    "\n",
    "import seaborn as sns\n",
    "sns.set(style = \"whitegrid\", \n",
    "        color_codes = True,\n",
    "        font_scale = 1.5)"
   ]
  },
  {
   "cell_type": "markdown",
   "metadata": {},
   "source": [
    "### Loading the Data"
   ]
  },
  {
   "cell_type": "code",
   "execution_count": 3,
   "metadata": {},
   "outputs": [
    {
     "name": "stdout",
     "output_type": "stream",
     "text": [
      "Downloading, this may take a few minutes.\n",
      "MD5 hash of file: 0380c4cf72746622947b9ca5db9b8be8\n",
      "Downloading, this may take a few minutes.\n",
      "MD5 hash of file: a2e7abd8c7d9abf6e6fafc1d1f9ee6bf\n"
     ]
    },
    {
     "data": {
      "text/html": [
       "<div>\n",
       "<style scoped>\n",
       "    .dataframe tbody tr th:only-of-type {\n",
       "        vertical-align: middle;\n",
       "    }\n",
       "\n",
       "    .dataframe tbody tr th {\n",
       "        vertical-align: top;\n",
       "    }\n",
       "\n",
       "    .dataframe thead th {\n",
       "        text-align: right;\n",
       "    }\n",
       "</style>\n",
       "<table border=\"1\" class=\"dataframe\">\n",
       "  <thead>\n",
       "    <tr style=\"text-align: right;\">\n",
       "      <th></th>\n",
       "      <th>id</th>\n",
       "      <th>subject</th>\n",
       "      <th>email</th>\n",
       "      <th>spam</th>\n",
       "    </tr>\n",
       "  </thead>\n",
       "  <tbody>\n",
       "    <tr>\n",
       "      <th>0</th>\n",
       "      <td>0</td>\n",
       "      <td>Subject: A&amp;L Daily to be auctioned in bankrupt...</td>\n",
       "      <td>url: http://boingboing.net/#85534171\\n date: n...</td>\n",
       "      <td>0</td>\n",
       "    </tr>\n",
       "    <tr>\n",
       "      <th>1</th>\n",
       "      <td>1</td>\n",
       "      <td>Subject: Wired: \"Stronger ties between ISPs an...</td>\n",
       "      <td>url: http://scriptingnews.userland.com/backiss...</td>\n",
       "      <td>0</td>\n",
       "    </tr>\n",
       "    <tr>\n",
       "      <th>2</th>\n",
       "      <td>2</td>\n",
       "      <td>Subject: It's just too small                  ...</td>\n",
       "      <td>&lt;html&gt;\\n &lt;head&gt;\\n &lt;/head&gt;\\n &lt;body&gt;\\n &lt;font siz...</td>\n",
       "      <td>1</td>\n",
       "    </tr>\n",
       "    <tr>\n",
       "      <th>3</th>\n",
       "      <td>3</td>\n",
       "      <td>Subject: liberal defnitions\\n</td>\n",
       "      <td>depends on how much over spending vs. how much...</td>\n",
       "      <td>0</td>\n",
       "    </tr>\n",
       "    <tr>\n",
       "      <th>4</th>\n",
       "      <td>4</td>\n",
       "      <td>Subject: RE: [ILUG] Newbie seeks advice - Suse...</td>\n",
       "      <td>hehe sorry but if you hit caps lock twice the ...</td>\n",
       "      <td>0</td>\n",
       "    </tr>\n",
       "  </tbody>\n",
       "</table>\n",
       "</div>"
      ],
      "text/plain": [
       "   id                                            subject  \\\n",
       "0   0  Subject: A&L Daily to be auctioned in bankrupt...   \n",
       "1   1  Subject: Wired: \"Stronger ties between ISPs an...   \n",
       "2   2  Subject: It's just too small                  ...   \n",
       "3   3                      Subject: liberal defnitions\\n   \n",
       "4   4  Subject: RE: [ILUG] Newbie seeks advice - Suse...   \n",
       "\n",
       "                                               email  spam  \n",
       "0  url: http://boingboing.net/#85534171\\n date: n...     0  \n",
       "1  url: http://scriptingnews.userland.com/backiss...     0  \n",
       "2  <html>\\n <head>\\n </head>\\n <body>\\n <font siz...     1  \n",
       "3  depends on how much over spending vs. how much...     0  \n",
       "4  hehe sorry but if you hit caps lock twice the ...     0  "
      ]
     },
     "execution_count": 3,
     "metadata": {},
     "output_type": "execute_result"
    }
   ],
   "source": [
    "from utils import fetch_and_cache_gdrive\n",
    "fetch_and_cache_gdrive('1SCASpLZFKCp2zek-toR3xeKX3DZnBSyp', 'train.csv')\n",
    "fetch_and_cache_gdrive('1ZDFo9OTF96B5GP2Nzn8P8-AL7CTQXmC0', 'eval.csv')\n",
    "\n",
    "original_training_data = pd.read_csv('data/train.csv')\n",
    "evaluation = pd.read_csv('data/eval.csv')\n",
    "\n",
    "# Convert the emails to lower case as a first step to processing the text\n",
    "original_training_data['email'] = original_training_data['email'].str.lower()\n",
    "evaluation['email'] = evaluation['email'].str.lower()\n",
    "\n",
    "original_training_data.head()"
   ]
  },
  {
   "cell_type": "markdown",
   "metadata": {},
   "source": [
    "### Train-Test Split"
   ]
  },
  {
   "cell_type": "code",
   "execution_count": 4,
   "metadata": {},
   "outputs": [],
   "source": [
    "from sklearn.model_selection import train_test_split\n",
    "\n",
    "[train, test] = train_test_split(original_training_data, test_size=0.1, random_state=42)"
   ]
  },
  {
   "cell_type": "code",
   "execution_count": 5,
   "metadata": {},
   "outputs": [],
   "source": [
    "first_ham = train.loc[train['spam'] == 0, 'email'].iloc[0]\n",
    "first_spam = train.loc[train['spam'] == 1, 'email'].iloc[0]"
   ]
  },
  {
   "cell_type": "code",
   "execution_count": 6,
   "metadata": {},
   "outputs": [
    {
     "data": {
      "text/plain": [
       "'while i was playing with the past issues, it annoyed me that there was\\n no easy way to make the log stop growing (i don\\'t mean to truncate it,\\n i mean to just freeze it for a while).\\n \\n the following patch adds a new button to the log window, which allows\\n the log to be switched on/off (the button says \"disable\" when the\\n log is enabled, and the button disables it, and \"enable\" when the log\\n is frozen, and the button enables it again).\\n \\n kre\\n \\n --- main.tcl\\twed aug 21 15:01:48 2002\\n +++ /usr/local/lib/exmh-2.5/main.tcl\\twed aug 28 17:36:59 2002\\n @@ -385,6 +385,9 @@\\n  \\texmhlogcreate\\n  \\twm withdraw $exmh(logtop)\\n      }\\n +    if {! $exmh(logwrite)} {\\n +\\treturn\\n +    }\\n      if [info exists exmh(log)] {\\n  \\tcatch {\\n  #\\t    $exmh(log) insert end \" [bw_delta] \"\\n @@ -407,6 +410,9 @@\\n      set exmh(logwindow) 1\\n      exwin_toplevel .log \"exmh log\" log\\n      set exmh(logtop) .log\\n +    set exmh(logdisablebut) \\\\\\n +\\t[widget_addbut $exmh(logtop).but swap \"disable\" exmhlogtoggle]\\n +    set exmh(logwrite) 1\\n      widget_addbut $exmh(logtop).but trunc \"truncate\" exmhlogtrunc\\n      widget_addbut $exmh(logtop).but save \"save to file\" exmhlogsave\\n      set exmh(logyview) 1\\n @@ -457,6 +463,12 @@\\n      } msg] {\\n  \\texmh_status \"cannot save log: $msg\" error\\n      }\\n +}\\n +proc exmhlogtoggle {} {\\n +    global exmh\\n +\\n +    set exmh(logwrite) [expr ! $exmh(logwrite)]\\n +    $exmh(logdisablebut) configure -text [lindex {\"enable \" disable} $exmh(logwrite)]\\n  }\\n  #### misc\\n  \\n \\n \\n \\n \\n _______________________________________________\\n exmh-workers mailing list\\n exmh-workers@redhat.com\\n https://listman.redhat.com/mailman/listinfo/exmh-workers\\n \\n'"
      ]
     },
     "execution_count": 6,
     "metadata": {},
     "output_type": "execute_result"
    }
   ],
   "source": [
    "first_ham"
   ]
  },
  {
   "cell_type": "code",
   "execution_count": 7,
   "metadata": {},
   "outputs": [
    {
     "data": {
      "text/plain": [
       "'--===_secatt_000_1fuklemuttfusq\\n content-type: text/plain; charset=\"us-ascii\"\\n content-transfer-encoding: quoted-printable\\n \\n aluko martin\\n 23 victoriagarden city=2c\\n lagos-nigeria=2e\\n \\n attn=2e\\n \\n \\n we have an immediate business proposal that involves us$34=2c700=2c000\\n which we will like to invest under your custody=2e please=2c do not\\n hesitate\\n to send me an email=2c so as to discuss with you the details of the\\n transaction=2fthe\\n terms and condition of sharing regarding the business=2e\\n your urgent response will be highly appreciated and will swiftly\\n bring us\\n to the commencement of the transaction=2e we hope to conclude this\\n transaction\\n within 10-12 working days=2e do not forget to contact me on receipt of\\n this\\n mail=2e and please ensure to maintain absolute confidentiality with\\n regard to\\n this\\n pending transaction=2e i urgently await your response=2e\\n \\n best regards=2c\\n \\n aluko martin=2e\\n \\n -- \\n \\n \\n --===_secatt_000_1fuklemuttfusq\\n content-type: application/octet-stream; name=\"mailxs_list.lst\"\\n content-transfer-encoding: base64\\n content-disposition: attachment; filename=\"mailxs_list.lst\"\\n \\n \\n --===_secatt_000_1fuklemuttfusq\\n \\n'"
      ]
     },
     "execution_count": 7,
     "metadata": {},
     "output_type": "execute_result"
    }
   ],
   "source": [
    "first_spam"
   ]
  },
  {
   "cell_type": "markdown",
   "metadata": {},
   "source": [
    "### Feature Engineering"
   ]
  },
  {
   "cell_type": "code",
   "execution_count": 8,
   "metadata": {},
   "outputs": [],
   "source": [
    "def words_in_texts(words, texts):\n",
    "    '''\n",
    "    Args:\n",
    "        words (list-like): words to find\n",
    "        texts (Series): strings to search in\n",
    "    \n",
    "    Returns:\n",
    "        NumPy array of 0s and 1s with shape (n, p) where n is the\n",
    "        number of texts and p is the number of words.\n",
    "    '''\n",
    "    indicator_array = 1*np.array([texts.str.contains(word) for word in words]).T\n",
    "    return indicator_array"
   ]
  },
  {
   "cell_type": "markdown",
   "metadata": {},
   "source": [
    "### EDA"
   ]
  },
  {
   "cell_type": "code",
   "execution_count": 10,
   "metadata": {},
   "outputs": [
    {
     "data": {
      "image/png": "[encoded data removed]",
      "text/plain": [
       "<Figure size 432x288 with 1 Axes>"
      ]
     },
     "metadata": {},
     "output_type": "display_data"
    }
   ],
   "source": [
    "some_words = ['body', 'html', 'please', 'money', 'business', 'offer']\n",
    "Phi_train = words_in_texts(some_words, train['email'])\n",
    "\n",
    "df = pd.DataFrame(data = Phi_train, columns = some_words)\n",
    "df['label'] = train['spam']\n",
    "\n",
    "sns.barplot(x = \"variable\", \n",
    "            y = \"value\", \n",
    "            hue = \"label\", \n",
    "            data = (df\n",
    "                    .replace({'label': \n",
    "                                {0 : 'Ham', \n",
    "                                 1 : 'Spam'}})\n",
    "                    .melt('label')\n",
    "                    .groupby(['label', 'variable'])\n",
    "                    .mean()\n",
    "                    .reset_index()))\n",
    "\n",
    "plt.ylim([0, 1])\n",
    "plt.xlabel('')\n",
    "plt.ylabel('Proportion of Emails')\n",
    "plt.legend(title = \"\")\n",
    "plt.show()"
   ]
  },
  {
   "cell_type": "code",
   "execution_count": 12,
   "metadata": {},
   "outputs": [
    {
     "name": "stderr",
     "output_type": "stream",
     "text": [
      "/Users/josh/anaconda3/lib/python3.6/site-packages/matplotlib/axes/_axes.py:6462: UserWarning: The 'normed' kwarg is deprecated, and has been replaced by the 'density' kwarg.\n",
      "  warnings.warn(\"The 'normed' kwarg is deprecated, and has been \"\n",
      "/Users/josh/anaconda3/lib/python3.6/site-packages/matplotlib/axes/_axes.py:6462: UserWarning: The 'normed' kwarg is deprecated, and has been replaced by the 'density' kwarg.\n",
      "  warnings.warn(\"The 'normed' kwarg is deprecated, and has been \"\n"
     ]
    },
    {
     "data": {
      "image/png": "[encoded data removed]",
      "text/plain": [
       "<Figure size 432x288 with 1 Axes>"
      ]
     },
     "metadata": {},
     "output_type": "display_data"
    }
   ],
   "source": [
    "Train = pd.read_csv('../data/train.csv')\n",
    "Train['frac_upper'] = (\n",
    "    Train['email'].str.findall('[A-Z]').apply(len) / \n",
    "    Train['email'].str.findall('[a-zA-Z]').apply(len)\n",
    ")\n",
    "\n",
    "tmp = Train[['spam', 'frac_upper']]\n",
    "sns.distplot(tmp.loc[tmp['spam'] == 0, 'frac_upper'])\n",
    "sns.distplot(tmp.loc[tmp['spam'] == 1, 'frac_upper'])\n",
    "plt.legend(['Ham', 'Spam'])\n",
    "plt.xlabel('Fraction of Uppercase Letters in Email')\n",
    "plt.show()"
   ]
  },
  {
   "cell_type": "code",
   "execution_count": 13,
   "metadata": {},
   "outputs": [
    {
     "data": {
      "text/plain": [
       "(array([[0, 0, 0, 0, 0],\n",
       "        [0, 0, 0, 0, 0],\n",
       "        [0, 0, 0, 0, 0],\n",
       "        [0, 0, 0, 0, 0],\n",
       "        [0, 0, 0, 1, 0]]), array([0, 0, 0, 0, 0]))"
      ]
     },
     "execution_count": 13,
     "metadata": {},
     "output_type": "execute_result"
    }
   ],
   "source": [
    "some_words = ['drug', 'bank', 'prescription', 'memo', 'private']\n",
    "\n",
    "Phi_train = words_in_texts(some_words, train['email'])\n",
    "Y_train = np.array(train['spam'])\n",
    "\n",
    "Phi_train[:5], Y_train[:5]"
   ]
  },
  {
   "cell_type": "code",
   "execution_count": 14,
   "metadata": {},
   "outputs": [
    {
     "name": "stdout",
     "output_type": "stream",
     "text": [
      "Training Accuracy:  0.7576201251164648\n"
     ]
    }
   ],
   "source": [
    "from sklearn.linear_model import LogisticRegression\n",
    "\n",
    "model = LogisticRegression()\n",
    "model.fit(Phi_train, Y_train)\n",
    "\n",
    "training_accuracy = model.score(Phi_train, Y_train)\n",
    "print(\"Training Accuracy: \", training_accuracy)"
   ]
  },
  {
   "cell_type": "code",
   "execution_count": 15,
   "metadata": {},
   "outputs": [],
   "source": [
    "zero_predictor_fp = 0\n",
    "zero_predictor_fn = sum(Y_train == 1)\n",
    "\n",
    "zero_predictor_acc = np.mean(Y_train == 0)\n",
    "zero_predictor_recall = 0\n",
    "\n",
    "Y_train_hat = model.predict(Phi_train)\n",
    "\n",
    "TP = sum((Y_train_hat == Y_train) & (Y_train_hat == 1))\n",
    "TN = sum((Y_train_hat == Y_train) & (Y_train_hat == 0))\n",
    "FP = sum((Y_train_hat != Y_train) & (Y_train_hat == 1))\n",
    "FN = sum((Y_train_hat != Y_train) & (Y_train_hat == 0))\n",
    "\n",
    "logistic_predictor_precision = TP / (TP + FP)\n",
    "logistic_predictor_recall = TP / (TP + FN)\n",
    "logistic_predictor_far = FP / (FP + TN)"
   ]
  },
  {
   "cell_type": "code",
   "execution_count": 17,
   "metadata": {},
   "outputs": [],
   "source": [
    "from sklearn.metrics import precision_recall_curve\n"
   ]
  },
  {
   "cell_type": "code",
   "execution_count": 18,
   "metadata": {},
   "outputs": [
    {
     "name": "stdout",
     "output_type": "stream",
     "text": [
      "accuracy:  0.9245308132570211\n"
     ]
    },
    {
     "data": {
      "image/png": "[encoded data removed]",
      "text/plain": [
       "<Figure size 432x288 with 1 Axes>"
      ]
     },
     "metadata": {},
     "output_type": "display_data"
    }
   ],
   "source": [
    "staff_words = ['body', 'click', 'please', 'base64', '2002', 'html', 'subscribed',\n",
    "               'wrote', 'mortgage', 'align3dcenterfont', 'dear', 'br', 'width10img',\n",
    "               'divfont', 'im', 'receive', 'list', 'tags', 'web', 'base64', 'click',\n",
    "               'body', 'please', 'money', 'offer', 'receive', 'contact', 'free',\n",
    "               'tr', 'removed', 'remove', 'html', 'font', 'form',\n",
    "               'credit', 'business', 'div']\n",
    "\n",
    "Phi_train = words_in_texts(staff_words, train['email'])\n",
    "\n",
    "staff_model = LogisticRegression()\n",
    "staff_model.fit(Phi_train, Y_train)\n",
    "\n",
    "print('accuracy: ', staff_model.score(Phi_train, Y_train))\n",
    "\n",
    "Y_predict = staff_model.predict_proba(Phi_train)[:, 1]\n",
    "prec, recall, _ = precision_recall_curve(Y_train, Y_predict)\n",
    "plt.plot(prec, recall)\n",
    "plt.xlabel(\"Precision\")\n",
    "plt.ylabel(\"Recall\")\n",
    "plt.xlim([0, 1])\n",
    "plt.ylim([0, 1])\n",
    "plt.show()"
   ]
  },
  {
   "cell_type": "code",
   "execution_count": null,
   "metadata": {},
   "outputs": [],
   "source": []
  }
 ],
 "metadata": {
  "kernelspec": {
   "display_name": "Python 3",
   "language": "python",
   "name": "python3"
  },
  "language_info": {
   "codemirror_mode": {
    "name": "ipython",
    "version": 3
   },
   "file_extension": ".py",
   "mimetype": "text/x-python",
   "name": "python",
   "nbconvert_exporter": "python",
   "pygments_lexer": "ipython3",
   "version": "3.6.5"
  }
 },
 "nbformat": 4,
 "nbformat_minor": 2
}
